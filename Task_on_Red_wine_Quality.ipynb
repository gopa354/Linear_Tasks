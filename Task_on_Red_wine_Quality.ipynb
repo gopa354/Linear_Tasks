{
 "cells": [
  {
   "cell_type": "code",
   "execution_count": null,
   "metadata": {},
   "outputs": [],
   "source": [
    "#Task on Red wine to find Quality in multi linear regression\n",
    "import numpy as np\n",
    "import pandas as pd\n",
    "from mpl_toolkits.mplot3d import Axes3D\n",
    "import matplotlib.pyplot as plt\n",
    "#loading csv using pandas\n",
    "df=pd .read_csv(\"/home/gpurama/Downloads/winequality-red.csv\")\n",
    "x1=df['pH']\n",
    "x2=df['density']\n",
    "x3=df['alcohol']\n",
    "x4=df['volatile acidity']\n",
    "x5=df['citric acid']\n",
    "Y=df['quality']\n",
    "X=pd.concat([x1,x2,x3,x4,x5],axis=1)\n",
    "#Converting X and Y as Numpy arrays \n",
    "X=np.array(X)\n",
    "print(X)\n",
    "Y=np.array(Y)\n",
    "# let's plot the data to see what it looks like\n",
    "fig = plt.figure()\n",
    "ax = fig.add_subplot(111, projection='3d')\n",
    "plt.plot(X[:,0],X[:,1],Y)\n",
    "plt.show()\n",
    "# apply the equations we learned to calculate a and b\n",
    "# numpy has a special method for solving Ax = b\n",
    "# so we don't use x = inv(A)*b\n",
    "# note: the * operator does element-by-element multiplication in numpy\n",
    "#       np.dot() does what we expect for matrix multiplication\n",
    "# = np.linalg.solve(np.dot(X.T, X), np.dot(X.T, Y))\n",
    "w=np.linalg.inv(X.T.dot(X)).dot(X.T.dot(Y))\n",
    "print(w.shape)\n",
    "Yhat = np.dot(X, w)\n",
    "print(\"Predicted Quality of Red Wine as :---\",Yhat)\n",
    "\n",
    "# determine how good the model is by computing the r-squared\n",
    "d1 = Y - Yhat\n",
    "d2 = Y - Y.mean()\n",
    "R2 = 1 - d1.dot(d1) / d2.dot(d2)\n",
    "print(\"The r-squared is:\", R2)\n",
    "#Taking input from key board\n",
    "rows = int(input(\"Enter number of rows in the matrix: \"))\n",
    "columns = int(input(\"Enter number of columns in the matrix: \"))\n",
    "x = []\n",
    "print(\"Enter the %s x %s matrix: \"% (rows, columns))\n",
    "for i in range(rows):\n",
    "    x.append(list(map(float, input().rstrip().split())))\n",
    "x=np.array(x)\n",
    "y=x.dot(w)\n",
    "print(y)"
   ]
  },
  {
   "cell_type": "code",
   "execution_count": null,
   "metadata": {},
   "outputs": [],
   "source": []
  },
  {
   "cell_type": "markdown",
   "metadata": {},
   "source": []
  }
 ],
 "metadata": {
  "kernelspec": {
   "display_name": "Python 3",
   "language": "python",
   "name": "python3"
  },
  "language_info": {
   "codemirror_mode": {
    "name": "ipython",
    "version": 3
   },
   "file_extension": ".py",
   "mimetype": "text/x-python",
   "name": "python",
   "nbconvert_exporter": "python",
   "pygments_lexer": "ipython3",
   "version": "3.6.7"
  }
 },
 "nbformat": 4,
 "nbformat_minor": 2
}
